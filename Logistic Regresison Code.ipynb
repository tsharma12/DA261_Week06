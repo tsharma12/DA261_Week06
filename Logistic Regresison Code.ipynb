{
 "cells": [
  {
   "cell_type": "markdown",
   "id": "aa31bc59",
   "metadata": {},
   "source": [
    "# K-fold cross validation of Logistic Regression model"
   ]
  },
  {
   "cell_type": "code",
   "execution_count": 7,
   "id": "7c5efef0",
   "metadata": {},
   "outputs": [
    {
     "name": "stdout",
     "output_type": "stream",
     "text": [
      "X :  <class 'numpy.ndarray'> (569, 30)\n",
      "y :  <class 'numpy.ndarray'> (569,)\n",
      "Manual CV Accuracy Scores: [0.9736842105263158, 0.9824561403508771, 0.9649122807017544, 0.9912280701754386, 0.9734513274336283]\n",
      "Average Accuracy: 0.9771464058376029\n"
     ]
    }
   ],
   "source": [
    "import numpy as np\n",
    "import pandas as pd\n",
    "from sklearn.datasets import load_breast_cancer\n",
    "from sklearn.linear_model import LogisticRegression\n",
    "from sklearn.preprocessing import StandardScaler\n",
    "from sklearn.metrics import accuracy_score\n",
    "from sklearn.model_selection import KFold\n",
    "\n",
    "# Load dataset\n",
    "data = load_breast_cancer()\n",
    "X = data.data\n",
    "y = data.target\n",
    "\n",
    "print(\"X : \", type(X), X.shape)\n",
    "print(\"y : \", type(y), y.shape)\n",
    "\n",
    "# Scale features\n",
    "scaler = StandardScaler()   # Z score normalization mean=0, standard_deviation=1\n",
    "X_scaled = scaler.fit_transform(X)\n",
    "\n",
    "# Set up K-Fold\n",
    "kf = KFold(n_splits=5, shuffle=True, random_state=42)   # The shuffling is done only once, at the beginning, before the data is split into K folds\n",
    "acc_scores = []\n",
    "\n",
    "# Manual K-Fold CV\n",
    "for train_index, val_index in kf.split(X_scaled):\n",
    "    X_train, X_val = X_scaled[train_index], X_scaled[val_index]\n",
    "    y_train, y_val = y[train_index], y[val_index]\n",
    "    \n",
    "    # Train logistic regression model\n",
    "    model = LogisticRegression(max_iter=1000)\n",
    "    model.fit(X_train, y_train)\n",
    "    \n",
    "    # Predict and evaluate\n",
    "    y_pred = model.predict(X_val)\n",
    "    acc = accuracy_score(y_val, y_pred)\n",
    "    acc_scores.append(acc)\n",
    "\n",
    "# Results\n",
    "print(\"Manual CV Accuracy Scores:\", acc_scores)\n",
    "print(\"Average Accuracy:\", np.mean(acc_scores))"
   ]
  },
  {
   "cell_type": "markdown",
   "id": "28364b94",
   "metadata": {},
   "source": [
    "# Getting the final model"
   ]
  },
  {
   "cell_type": "code",
   "execution_count": 8,
   "id": "98238f98",
   "metadata": {},
   "outputs": [
    {
     "name": "stdout",
     "output_type": "stream",
     "text": [
      "Final trained models is ready to predict on other data\n"
     ]
    }
   ],
   "source": [
    "# Train final model on full dataset\n",
    "final_model = LogisticRegression(max_iter=1000)\n",
    "final_model.fit(X_scaled, y)\n",
    "\n",
    "print(\"Final trained models is ready to predict on other data\")"
   ]
  },
  {
   "cell_type": "code",
   "execution_count": null,
   "id": "0f93e2ef",
   "metadata": {},
   "outputs": [],
   "source": []
  }
 ],
 "metadata": {
  "kernelspec": {
   "display_name": "base",
   "language": "python",
   "name": "python3"
  },
  "language_info": {
   "codemirror_mode": {
    "name": "ipython",
    "version": 3
   },
   "file_extension": ".py",
   "mimetype": "text/x-python",
   "name": "python",
   "nbconvert_exporter": "python",
   "pygments_lexer": "ipython3",
   "version": "3.12.7"
  }
 },
 "nbformat": 4,
 "nbformat_minor": 5
}
